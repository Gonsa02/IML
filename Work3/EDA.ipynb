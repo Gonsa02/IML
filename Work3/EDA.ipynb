{
 "cells": [
  {
   "cell_type": "code",
   "execution_count": 1,
   "metadata": {},
   "outputs": [],
   "source": [
    "from preprocessing import DataLoader, DataProcessor\n",
    "\n",
    "# Initialize the DataLoader\n",
    "data_loader     = DataLoader()\n",
    "data_processor  = DataProcessor()\n",
    "\n",
    "df_satimage, labels_satimage= data_loader.load_arff_data(\"satimage\")\n",
    "df_splice, labels_splice    = data_loader.load_arff_data(\"splice\")\n",
    "df_vowel, labels_vowel      = data_loader.load_arff_data(\"vowel\")\n",
    "\n",
    "\n",
    "df_satimage = data_processor.preprocess_dataset(df_satimage)\n",
    "df_splice   = data_processor.preprocess_dataset(df_splice)\n",
    "df_vowel    = data_processor.preprocess_dataset(df_vowel)"
   ]
  }
 ],
 "metadata": {
  "kernelspec": {
   "display_name": "iml",
   "language": "python",
   "name": "python3"
  },
  "language_info": {
   "codemirror_mode": {
    "name": "ipython",
    "version": 3
   },
   "file_extension": ".py",
   "mimetype": "text/x-python",
   "name": "python",
   "nbconvert_exporter": "python",
   "pygments_lexer": "ipython3",
   "version": "3.9.20"
  }
 },
 "nbformat": 4,
 "nbformat_minor": 2
}
