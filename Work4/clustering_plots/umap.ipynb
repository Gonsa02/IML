{
 "cells": [
  {
   "cell_type": "markdown",
   "metadata": {},
   "source": [
    "# TODO:\n",
    "\n",
    "1. Plot PCA and UMAP for original data (predefiend seed to show results) (observe different seeds to make conclusions)\n",
    "2. Labels of best kmeans and optics (predefined seed to show results)\n",
    "3. Reduce dimensionality and apply best kmeans and optics configurations for the dataset.\n",
    "\n",
    "\n",
    "\n",
    "\n",
    "\n",
    "10 different seeds to compute k-means and optics and choose the seed with the maximum score"
   ]
  },
  {
   "cell_type": "markdown",
   "metadata": {},
   "source": [
    "## Imports"
   ]
  },
  {
   "cell_type": "code",
   "execution_count": 1,
   "metadata": {},
   "outputs": [],
   "source": [
    "import os\n",
    "os.chdir(\"..\")"
   ]
  },
  {
   "cell_type": "code",
   "execution_count": 27,
   "metadata": {},
   "outputs": [],
   "source": [
    "import numpy as np\n",
    "import pandas as pd\n",
    "import umap.umap_ as umap\n",
    "import seaborn as sns\n",
    "import matplotlib.pyplot as plt\n",
    "from mpl_toolkits.mplot3d import Axes3D\n",
    "from sklearn.preprocessing import LabelEncoder"
   ]
  },
  {
   "cell_type": "code",
   "execution_count": 3,
   "metadata": {},
   "outputs": [],
   "source": [
    "from preprocessing import DataLoader, DataProcessor\n",
    "from clustering.kmeans import kmeans, global_kmeans"
   ]
  },
  {
   "cell_type": "code",
   "execution_count": 4,
   "metadata": {},
   "outputs": [],
   "source": [
    "data_loader = DataLoader()\n",
    "data_processor = DataProcessor()\n",
    "\n",
    "datasets_info = {\n",
    "        'satimage': data_loader.load_arff_data('satimage'),\n",
    "        'splice': data_loader.load_arff_data('splice'),\n",
    "        'vowel': data_loader.load_arff_data('vowel')\n",
    "    }\n",
    "\n",
    "preprocessed_datasets = {}\n",
    "for dataset_name, (df, labels) in datasets_info.items():\n",
    "    preprocessed_df = data_processor.preprocess_dataset(df)\n",
    "    \n",
    "    label_encoder = LabelEncoder()\n",
    "    encoded_labels = label_encoder.fit_transform(labels)\n",
    "\n",
    "    preprocessed_datasets[dataset_name] = {\n",
    "        'df': preprocessed_df,\n",
    "        'labels': encoded_labels\n",
    "    }"
   ]
  },
  {
   "cell_type": "markdown",
   "metadata": {},
   "source": [
    "# 1. Original data"
   ]
  },
  {
   "cell_type": "markdown",
   "metadata": {},
   "source": [
    "### PCA"
   ]
  },
  {
   "cell_type": "markdown",
   "metadata": {},
   "source": [
    "### UMAP"
   ]
  },
  {
   "cell_type": "code",
   "execution_count": 11,
   "metadata": {},
   "outputs": [],
   "source": [
    "def plot_umap(df, labels, n_neighbors_values=[15, 50, 100]):\n",
    "\n",
    "    fig = plt.figure(figsize=(15, 5))  # Adjust figure size for 3 columns\n",
    "\n",
    "    for i, n_neighbors in enumerate(n_neighbors_values):\n",
    "        # Compute UMAP embedding\n",
    "        um = umap.UMAP(n_neighbors=n_neighbors, min_dist=0.1, n_components=3, random_state=42)\n",
    "        embedding = um.fit_transform(df)\n",
    "\n",
    "        # Create a 3D subplot\n",
    "        ax = fig.add_subplot(1, 3, i + 1, projection='3d')\n",
    "        scatter = ax.scatter(embedding[:, 0], embedding[:, 1], embedding[:, 2], c=labels, cmap='tab10', s=10)\n",
    "\n",
    "        # Add labels and title\n",
    "        ax.set_title(f'UMAP with n_neighbors={n_neighbors}')\n",
    "        ax.set_xlabel('UMAP Dim 1')\n",
    "        ax.set_ylabel('UMAP Dim 2')\n",
    "        ax.set_zlabel('UMAP Dim 3')\n",
    "\n",
    "    # Add color bar to the figure\n",
    "    # fig.colorbar(scatter, ax=fig.get_axes(), orientation='vertical', label='Classes')\n",
    "\n",
    "    plt.suptitle(f'3D UMAP Projections of {dataset_name.upper()}')\n",
    "    plt.tight_layout()\n",
    "    plt.show()\n"
   ]
  },
  {
   "cell_type": "code",
   "execution_count": 70,
   "metadata": {},
   "outputs": [],
   "source": [
    "def plot_umap_single(df, labels, n_neighbors=15):\n",
    "    fig = plt.figure(figsize=(15, 5))  # Adjust figure size for 3 columns\n",
    "\n",
    "    um = umap.UMAP(n_neighbors=n_neighbors, min_dist=0.1, n_components=3, random_state=42)\n",
    "    embedding = um.fit_transform(df)\n",
    "\n",
    "    # Create a 3D subplot\n",
    "    ax = fig.add_subplot(111, projection='3d')\n",
    "    scatter = ax.scatter(embedding[:, 0], embedding[:, 1], embedding[:, 2], c=labels, cmap='tab10', s=10)\n",
    "\n",
    "    # Add labels and title\n",
    "    # ax.set_title(f'UMAP with n_neighbors={n_neighbors}')\n",
    "    ax.set_xlabel('UMAP Dim 1')\n",
    "    ax.set_ylabel('UMAP Dim 2')\n",
    "    ax.set_zlabel('UMAP Dim 3')\n",
    "\n",
    "    # Add color bar to the figure\n",
    "    # fig.colorbar(scatter, ax=fig.get_axes(), orientation='vertical', label='Classes')\n",
    "\n",
    "    # plt.suptitle(f'3D UMAP Projections of {dataset_name.upper()}')\n",
    "    # plt.tight_layout()\n",
    "    plt.show()"
   ]
  },
  {
   "cell_type": "code",
   "execution_count": 78,
   "metadata": {},
   "outputs": [],
   "source": [
    "def plot_umap_A(df, labels):\n",
    "    # Create a color palette\n",
    "    palette = sns.color_palette('husl', len(np.unique(labels)))\n",
    "\n",
    "    # Plot the UMAP embedding\n",
    "    plt.figure(figsize=(10, 8))\n",
    "    sns.scatterplot(\n",
    "        x='UMAP1', y='UMAP2', hue='Label', data=df, palette=palette, s=10, edgecolor='k', alpha=0.8\n",
    "    )\n",
    "\n",
    "    # Add titles and labels\n",
    "    plt.title('UMAP Projection', fontsize=16)\n",
    "    plt.xlabel('UMAP1', fontsize=14)\n",
    "    plt.ylabel('UMAP2', fontsize=14)\n",
    "    plt.legend(title='Classes', labels=labels, loc='best', fontsize=12, title_fontsize=14)\n",
    "    plt.grid(True, alpha=0.4)\n",
    "    plt.tight_layout()\n",
    "\n",
    "    # Show the plot\n",
    "    plt.show()"
   ]
  },
  {
   "cell_type": "code",
   "execution_count": 75,
   "metadata": {},
   "outputs": [
    {
     "name": "stderr",
     "output_type": "stream",
     "text": [
      "/Users/julia/anaconda3/envs/iml/lib/python3.9/site-packages/umap/umap_.py:1952: UserWarning: n_jobs value 1 overridden to 1 by setting random_state. Use no seed for parallelism.\n",
      "  warn(\n"
     ]
    },
    {
     "data": {
      "image/png": "[encoded data removed]",
      "text/plain": [
       "<Figure size 1500x500 with 1 Axes>"
      ]
     },
     "metadata": {},
     "output_type": "display_data"
    },
    {
     "name": "stderr",
     "output_type": "stream",
     "text": [
      "/Users/julia/anaconda3/envs/iml/lib/python3.9/site-packages/umap/umap_.py:1952: UserWarning: n_jobs value 1 overridden to 1 by setting random_state. Use no seed for parallelism.\n",
      "  warn(\n"
     ]
    },
    {
     "ename": "KeyboardInterrupt",
     "evalue": "",
     "output_type": "error",
     "traceback": [
      "\u001b[0;31m---------------------------------------------------------------------------\u001b[0m",
      "\u001b[0;31mKeyboardInterrupt\u001b[0m                         Traceback (most recent call last)",
      "Cell \u001b[0;32mIn[75], line 5\u001b[0m\n\u001b[1;32m      2\u001b[0m df \u001b[38;5;241m=\u001b[39m np\u001b[38;5;241m.\u001b[39marray(dataset_content[\u001b[38;5;124m'\u001b[39m\u001b[38;5;124mdf\u001b[39m\u001b[38;5;124m'\u001b[39m])\n\u001b[1;32m      3\u001b[0m labels \u001b[38;5;241m=\u001b[39m np\u001b[38;5;241m.\u001b[39marray(dataset_content[\u001b[38;5;124m'\u001b[39m\u001b[38;5;124mlabels\u001b[39m\u001b[38;5;124m'\u001b[39m])\u001b[38;5;241m.\u001b[39mastype(\u001b[38;5;28mint\u001b[39m)\n\u001b[0;32m----> 5\u001b[0m \u001b[43mplot_umap_single\u001b[49m\u001b[43m(\u001b[49m\u001b[43mdf\u001b[49m\u001b[43m,\u001b[49m\u001b[43m \u001b[49m\u001b[43mlabels\u001b[49m\u001b[43m)\u001b[49m\n",
      "Cell \u001b[0;32mIn[70], line 5\u001b[0m, in \u001b[0;36mplot_umap_single\u001b[0;34m(df, labels, n_neighbors)\u001b[0m\n\u001b[1;32m      2\u001b[0m fig \u001b[38;5;241m=\u001b[39m plt\u001b[38;5;241m.\u001b[39mfigure(figsize\u001b[38;5;241m=\u001b[39m(\u001b[38;5;241m15\u001b[39m, \u001b[38;5;241m5\u001b[39m))  \u001b[38;5;66;03m# Adjust figure size for 3 columns\u001b[39;00m\n\u001b[1;32m      4\u001b[0m um \u001b[38;5;241m=\u001b[39m umap\u001b[38;5;241m.\u001b[39mUMAP(n_neighbors\u001b[38;5;241m=\u001b[39mn_neighbors, min_dist\u001b[38;5;241m=\u001b[39m\u001b[38;5;241m0.1\u001b[39m, n_components\u001b[38;5;241m=\u001b[39m\u001b[38;5;241m3\u001b[39m, random_state\u001b[38;5;241m=\u001b[39m\u001b[38;5;241m42\u001b[39m)\n\u001b[0;32m----> 5\u001b[0m embedding \u001b[38;5;241m=\u001b[39m \u001b[43mum\u001b[49m\u001b[38;5;241;43m.\u001b[39;49m\u001b[43mfit_transform\u001b[49m\u001b[43m(\u001b[49m\u001b[43mdf\u001b[49m\u001b[43m)\u001b[49m\n\u001b[1;32m      7\u001b[0m \u001b[38;5;66;03m# Create a 3D subplot\u001b[39;00m\n\u001b[1;32m      8\u001b[0m ax \u001b[38;5;241m=\u001b[39m fig\u001b[38;5;241m.\u001b[39madd_subplot(\u001b[38;5;241m111\u001b[39m, projection\u001b[38;5;241m=\u001b[39m\u001b[38;5;124m'\u001b[39m\u001b[38;5;124m3d\u001b[39m\u001b[38;5;124m'\u001b[39m)\n",
      "File \u001b[0;32m~/anaconda3/envs/iml/lib/python3.9/site-packages/umap/umap_.py:2928\u001b[0m, in \u001b[0;36mUMAP.fit_transform\u001b[0;34m(self, X, y, force_all_finite, **kwargs)\u001b[0m\n\u001b[1;32m   2890\u001b[0m \u001b[38;5;28;01mdef\u001b[39;00m \u001b[38;5;21mfit_transform\u001b[39m(\u001b[38;5;28mself\u001b[39m, X, y\u001b[38;5;241m=\u001b[39m\u001b[38;5;28;01mNone\u001b[39;00m, force_all_finite\u001b[38;5;241m=\u001b[39m\u001b[38;5;28;01mTrue\u001b[39;00m, \u001b[38;5;241m*\u001b[39m\u001b[38;5;241m*\u001b[39mkwargs):\n\u001b[1;32m   2891\u001b[0m \u001b[38;5;250m    \u001b[39m\u001b[38;5;124;03m\"\"\"Fit X into an embedded space and return that transformed\u001b[39;00m\n\u001b[1;32m   2892\u001b[0m \u001b[38;5;124;03m    output.\u001b[39;00m\n\u001b[1;32m   2893\u001b[0m \n\u001b[0;32m   (...)\u001b[0m\n\u001b[1;32m   2926\u001b[0m \u001b[38;5;124;03m        Local radii of data points in the embedding (log-transformed).\u001b[39;00m\n\u001b[1;32m   2927\u001b[0m \u001b[38;5;124;03m    \"\"\"\u001b[39;00m\n\u001b[0;32m-> 2928\u001b[0m     \u001b[38;5;28;43mself\u001b[39;49m\u001b[38;5;241;43m.\u001b[39;49m\u001b[43mfit\u001b[49m\u001b[43m(\u001b[49m\u001b[43mX\u001b[49m\u001b[43m,\u001b[49m\u001b[43m \u001b[49m\u001b[43my\u001b[49m\u001b[43m,\u001b[49m\u001b[43m \u001b[49m\u001b[43mforce_all_finite\u001b[49m\u001b[43m,\u001b[49m\u001b[43m \u001b[49m\u001b[38;5;241;43m*\u001b[39;49m\u001b[38;5;241;43m*\u001b[39;49m\u001b[43mkwargs\u001b[49m\u001b[43m)\u001b[49m\n\u001b[1;32m   2929\u001b[0m     \u001b[38;5;28;01mif\u001b[39;00m \u001b[38;5;28mself\u001b[39m\u001b[38;5;241m.\u001b[39mtransform_mode \u001b[38;5;241m==\u001b[39m \u001b[38;5;124m\"\u001b[39m\u001b[38;5;124membedding\u001b[39m\u001b[38;5;124m\"\u001b[39m:\n\u001b[1;32m   2930\u001b[0m         \u001b[38;5;28;01mif\u001b[39;00m \u001b[38;5;28mself\u001b[39m\u001b[38;5;241m.\u001b[39moutput_dens:\n",
      "File \u001b[0;32m~/anaconda3/envs/iml/lib/python3.9/site-packages/umap/umap_.py:2555\u001b[0m, in \u001b[0;36mUMAP.fit\u001b[0;34m(self, X, y, force_all_finite, **kwargs)\u001b[0m\n\u001b[1;32m   2552\u001b[0m \u001b[38;5;28;01mtry\u001b[39;00m:\n\u001b[1;32m   2553\u001b[0m     \u001b[38;5;66;03m# sklearn pairwise_distances fails for callable metric on sparse data\u001b[39;00m\n\u001b[1;32m   2554\u001b[0m     _m \u001b[38;5;241m=\u001b[39m \u001b[38;5;28mself\u001b[39m\u001b[38;5;241m.\u001b[39mmetric \u001b[38;5;28;01mif\u001b[39;00m \u001b[38;5;28mself\u001b[39m\u001b[38;5;241m.\u001b[39m_sparse_data \u001b[38;5;28;01melse\u001b[39;00m \u001b[38;5;28mself\u001b[39m\u001b[38;5;241m.\u001b[39m_input_distance_func\n\u001b[0;32m-> 2555\u001b[0m     dmat \u001b[38;5;241m=\u001b[39m \u001b[43mpairwise_distances\u001b[49m\u001b[43m(\u001b[49m\u001b[43mX\u001b[49m\u001b[43m[\u001b[49m\u001b[43mindex\u001b[49m\u001b[43m]\u001b[49m\u001b[43m,\u001b[49m\u001b[43m \u001b[49m\u001b[43mmetric\u001b[49m\u001b[38;5;241;43m=\u001b[39;49m\u001b[43m_m\u001b[49m\u001b[43m,\u001b[49m\u001b[43m \u001b[49m\u001b[38;5;241;43m*\u001b[39;49m\u001b[38;5;241;43m*\u001b[39;49m\u001b[38;5;28;43mself\u001b[39;49m\u001b[38;5;241;43m.\u001b[39;49m\u001b[43m_metric_kwds\u001b[49m\u001b[43m)\u001b[49m\n\u001b[1;32m   2556\u001b[0m \u001b[38;5;28;01mexcept\u001b[39;00m (\u001b[38;5;167;01mValueError\u001b[39;00m, \u001b[38;5;167;01mTypeError\u001b[39;00m) \u001b[38;5;28;01mas\u001b[39;00m e:\n\u001b[1;32m   2557\u001b[0m     \u001b[38;5;66;03m# metric is numba.jit'd or not supported by sklearn,\u001b[39;00m\n\u001b[1;32m   2558\u001b[0m     \u001b[38;5;66;03m# fallback to pairwise special\u001b[39;00m\n\u001b[1;32m   2560\u001b[0m     \u001b[38;5;28;01mif\u001b[39;00m \u001b[38;5;28mself\u001b[39m\u001b[38;5;241m.\u001b[39m_sparse_data:\n\u001b[1;32m   2561\u001b[0m         \u001b[38;5;66;03m# Get a fresh metric since we are casting to dense\u001b[39;00m\n",
      "File \u001b[0;32m~/anaconda3/envs/iml/lib/python3.9/site-packages/sklearn/utils/_param_validation.py:213\u001b[0m, in \u001b[0;36mvalidate_params.<locals>.decorator.<locals>.wrapper\u001b[0;34m(*args, **kwargs)\u001b[0m\n\u001b[1;32m    207\u001b[0m \u001b[38;5;28;01mtry\u001b[39;00m:\n\u001b[1;32m    208\u001b[0m     \u001b[38;5;28;01mwith\u001b[39;00m config_context(\n\u001b[1;32m    209\u001b[0m         skip_parameter_validation\u001b[38;5;241m=\u001b[39m(\n\u001b[1;32m    210\u001b[0m             prefer_skip_nested_validation \u001b[38;5;129;01mor\u001b[39;00m global_skip_validation\n\u001b[1;32m    211\u001b[0m         )\n\u001b[1;32m    212\u001b[0m     ):\n\u001b[0;32m--> 213\u001b[0m         \u001b[38;5;28;01mreturn\u001b[39;00m \u001b[43mfunc\u001b[49m\u001b[43m(\u001b[49m\u001b[38;5;241;43m*\u001b[39;49m\u001b[43margs\u001b[49m\u001b[43m,\u001b[49m\u001b[43m \u001b[49m\u001b[38;5;241;43m*\u001b[39;49m\u001b[38;5;241;43m*\u001b[39;49m\u001b[43mkwargs\u001b[49m\u001b[43m)\u001b[49m\n\u001b[1;32m    214\u001b[0m \u001b[38;5;28;01mexcept\u001b[39;00m InvalidParameterError \u001b[38;5;28;01mas\u001b[39;00m e:\n\u001b[1;32m    215\u001b[0m     \u001b[38;5;66;03m# When the function is just a wrapper around an estimator, we allow\u001b[39;00m\n\u001b[1;32m    216\u001b[0m     \u001b[38;5;66;03m# the function to delegate validation to the estimator, but we replace\u001b[39;00m\n\u001b[1;32m    217\u001b[0m     \u001b[38;5;66;03m# the name of the estimator by the name of the function in the error\u001b[39;00m\n\u001b[1;32m    218\u001b[0m     \u001b[38;5;66;03m# message to avoid confusion.\u001b[39;00m\n\u001b[1;32m    219\u001b[0m     msg \u001b[38;5;241m=\u001b[39m re\u001b[38;5;241m.\u001b[39msub(\n\u001b[1;32m    220\u001b[0m         \u001b[38;5;124mr\u001b[39m\u001b[38;5;124m\"\u001b[39m\u001b[38;5;124mparameter of \u001b[39m\u001b[38;5;124m\\\u001b[39m\u001b[38;5;124mw+ must be\u001b[39m\u001b[38;5;124m\"\u001b[39m,\n\u001b[1;32m    221\u001b[0m         \u001b[38;5;124mf\u001b[39m\u001b[38;5;124m\"\u001b[39m\u001b[38;5;124mparameter of \u001b[39m\u001b[38;5;132;01m{\u001b[39;00mfunc\u001b[38;5;241m.\u001b[39m\u001b[38;5;18m__qualname__\u001b[39m\u001b[38;5;132;01m}\u001b[39;00m\u001b[38;5;124m must be\u001b[39m\u001b[38;5;124m\"\u001b[39m,\n\u001b[1;32m    222\u001b[0m         \u001b[38;5;28mstr\u001b[39m(e),\n\u001b[1;32m    223\u001b[0m     )\n",
      "File \u001b[0;32m~/anaconda3/envs/iml/lib/python3.9/site-packages/sklearn/metrics/pairwise.py:2375\u001b[0m, in \u001b[0;36mpairwise_distances\u001b[0;34m(X, Y, metric, n_jobs, force_all_finite, **kwds)\u001b[0m\n\u001b[1;32m   2372\u001b[0m         \u001b[38;5;28;01mreturn\u001b[39;00m distance\u001b[38;5;241m.\u001b[39msquareform(distance\u001b[38;5;241m.\u001b[39mpdist(X, metric\u001b[38;5;241m=\u001b[39mmetric, \u001b[38;5;241m*\u001b[39m\u001b[38;5;241m*\u001b[39mkwds))\n\u001b[1;32m   2373\u001b[0m     func \u001b[38;5;241m=\u001b[39m partial(distance\u001b[38;5;241m.\u001b[39mcdist, metric\u001b[38;5;241m=\u001b[39mmetric, \u001b[38;5;241m*\u001b[39m\u001b[38;5;241m*\u001b[39mkwds)\n\u001b[0;32m-> 2375\u001b[0m \u001b[38;5;28;01mreturn\u001b[39;00m \u001b[43m_parallel_pairwise\u001b[49m\u001b[43m(\u001b[49m\u001b[43mX\u001b[49m\u001b[43m,\u001b[49m\u001b[43m \u001b[49m\u001b[43mY\u001b[49m\u001b[43m,\u001b[49m\u001b[43m \u001b[49m\u001b[43mfunc\u001b[49m\u001b[43m,\u001b[49m\u001b[43m \u001b[49m\u001b[43mn_jobs\u001b[49m\u001b[43m,\u001b[49m\u001b[43m \u001b[49m\u001b[38;5;241;43m*\u001b[39;49m\u001b[38;5;241;43m*\u001b[39;49m\u001b[43mkwds\u001b[49m\u001b[43m)\u001b[49m\n",
      "File \u001b[0;32m~/anaconda3/envs/iml/lib/python3.9/site-packages/sklearn/metrics/pairwise.py:1893\u001b[0m, in \u001b[0;36m_parallel_pairwise\u001b[0;34m(X, Y, func, n_jobs, **kwds)\u001b[0m\n\u001b[1;32m   1890\u001b[0m X, Y, dtype \u001b[38;5;241m=\u001b[39m _return_float_dtype(X, Y)\n\u001b[1;32m   1892\u001b[0m \u001b[38;5;28;01mif\u001b[39;00m effective_n_jobs(n_jobs) \u001b[38;5;241m==\u001b[39m \u001b[38;5;241m1\u001b[39m:\n\u001b[0;32m-> 1893\u001b[0m     \u001b[38;5;28;01mreturn\u001b[39;00m \u001b[43mfunc\u001b[49m\u001b[43m(\u001b[49m\u001b[43mX\u001b[49m\u001b[43m,\u001b[49m\u001b[43m \u001b[49m\u001b[43mY\u001b[49m\u001b[43m,\u001b[49m\u001b[43m \u001b[49m\u001b[38;5;241;43m*\u001b[39;49m\u001b[38;5;241;43m*\u001b[39;49m\u001b[43mkwds\u001b[49m\u001b[43m)\u001b[49m\n\u001b[1;32m   1895\u001b[0m \u001b[38;5;66;03m# enforce a threading backend to prevent data communication overhead\u001b[39;00m\n\u001b[1;32m   1896\u001b[0m fd \u001b[38;5;241m=\u001b[39m delayed(_dist_wrapper)\n",
      "File \u001b[0;32m~/anaconda3/envs/iml/lib/python3.9/site-packages/sklearn/metrics/pairwise.py:1929\u001b[0m, in \u001b[0;36m_pairwise_callable\u001b[0;34m(X, Y, metric, force_all_finite, **kwds)\u001b[0m\n\u001b[1;32m   1925\u001b[0m \u001b[38;5;28;01mfor\u001b[39;00m i, j \u001b[38;5;129;01min\u001b[39;00m iterator:\n\u001b[1;32m   1926\u001b[0m     \u001b[38;5;66;03m# scipy has not yet implemented 1D sparse slices; once implemented this can\u001b[39;00m\n\u001b[1;32m   1927\u001b[0m     \u001b[38;5;66;03m# be removed and `arr[ind]` can be simply used.\u001b[39;00m\n\u001b[1;32m   1928\u001b[0m     x \u001b[38;5;241m=\u001b[39m X[[i], :] \u001b[38;5;28;01mif\u001b[39;00m issparse(X) \u001b[38;5;28;01melse\u001b[39;00m X[i]\n\u001b[0;32m-> 1929\u001b[0m     y \u001b[38;5;241m=\u001b[39m Y[[j], :] \u001b[38;5;28;01mif\u001b[39;00m issparse(Y) \u001b[38;5;28;01melse\u001b[39;00m \u001b[43mY\u001b[49m\u001b[43m[\u001b[49m\u001b[43mj\u001b[49m\u001b[43m]\u001b[49m\n\u001b[1;32m   1930\u001b[0m     out[i, j] \u001b[38;5;241m=\u001b[39m metric(x, y, \u001b[38;5;241m*\u001b[39m\u001b[38;5;241m*\u001b[39mkwds)\n\u001b[1;32m   1932\u001b[0m \u001b[38;5;66;03m# Make symmetric\u001b[39;00m\n\u001b[1;32m   1933\u001b[0m \u001b[38;5;66;03m# NB: out += out.T will produce incorrect results\u001b[39;00m\n",
      "\u001b[0;31mKeyboardInterrupt\u001b[0m: "
     ]
    },
    {
     "data": {
      "text/plain": [
       "<Figure size 1500x500 with 0 Axes>"
      ]
     },
     "metadata": {},
     "output_type": "display_data"
    }
   ],
   "source": [
    "for dataset_name, dataset_content in preprocessed_datasets.items():\n",
    "    df = np.array(dataset_content['df'])\n",
    "    labels = np.array(dataset_content['labels']).astype(int)\n",
    "\n",
    "    plot_umap_single(df, labels)\n",
    "    break"
   ]
  },
  {
   "cell_type": "markdown",
   "metadata": {},
   "source": [
    "# Clustering results\n",
    "\n",
    "1. Read best configs\n",
    "2. Apply best configs to obtain clustering labels\n",
    "3. Plot results\n"
   ]
  },
  {
   "cell_type": "markdown",
   "metadata": {},
   "source": [
    "Kmeans"
   ]
  },
  {
   "cell_type": "code",
   "execution_count": null,
   "metadata": {},
   "outputs": [
    {
     "data": {
      "text/html": [
       "<div>\n",
       "<style scoped>\n",
       "    .dataframe tbody tr th:only-of-type {\n",
       "        vertical-align: middle;\n",
       "    }\n",
       "\n",
       "    .dataframe tbody tr th {\n",
       "        vertical-align: top;\n",
       "    }\n",
       "\n",
       "    .dataframe thead th {\n",
       "        text-align: right;\n",
       "    }\n",
       "</style>\n",
       "<table border=\"1\" class=\"dataframe\">\n",
       "  <thead>\n",
       "    <tr style=\"text-align: right;\">\n",
       "      <th></th>\n",
       "      <th>dataset</th>\n",
       "      <th>metric</th>\n",
       "      <th>k</th>\n",
       "      <th>distance</th>\n",
       "      <th>metric_score</th>\n",
       "    </tr>\n",
       "  </thead>\n",
       "  <tbody>\n",
       "    <tr>\n",
       "      <th>0</th>\n",
       "      <td>satimage</td>\n",
       "      <td>Adjusted Rand Index</td>\n",
       "      <td>6</td>\n",
       "      <td>cosine</td>\n",
       "      <td>0.57980</td>\n",
       "    </tr>\n",
       "    <tr>\n",
       "      <th>1</th>\n",
       "      <td>satimage</td>\n",
       "      <td>Davies-Bouldin Index</td>\n",
       "      <td>3</td>\n",
       "      <td>manhattan</td>\n",
       "      <td>0.81180</td>\n",
       "    </tr>\n",
       "    <tr>\n",
       "      <th>2</th>\n",
       "      <td>satimage</td>\n",
       "      <td>Silhouette Score</td>\n",
       "      <td>3</td>\n",
       "      <td>euclidean</td>\n",
       "      <td>0.43730</td>\n",
       "    </tr>\n",
       "    <tr>\n",
       "      <th>3</th>\n",
       "      <td>satimage</td>\n",
       "      <td>Purity Score</td>\n",
       "      <td>14</td>\n",
       "      <td>cosine</td>\n",
       "      <td>0.83210</td>\n",
       "    </tr>\n",
       "    <tr>\n",
       "      <th>4</th>\n",
       "      <td>splice</td>\n",
       "      <td>Adjusted Rand Index</td>\n",
       "      <td>4</td>\n",
       "      <td>euclidean</td>\n",
       "      <td>0.43050</td>\n",
       "    </tr>\n",
       "    <tr>\n",
       "      <th>5</th>\n",
       "      <td>splice</td>\n",
       "      <td>Davies-Bouldin Index</td>\n",
       "      <td>15</td>\n",
       "      <td>manhattan</td>\n",
       "      <td>6.52080</td>\n",
       "    </tr>\n",
       "    <tr>\n",
       "      <th>6</th>\n",
       "      <td>splice</td>\n",
       "      <td>Silhouette Score</td>\n",
       "      <td>2</td>\n",
       "      <td>manhattan</td>\n",
       "      <td>0.01727</td>\n",
       "    </tr>\n",
       "    <tr>\n",
       "      <th>7</th>\n",
       "      <td>splice</td>\n",
       "      <td>Purity Score</td>\n",
       "      <td>10</td>\n",
       "      <td>cosine</td>\n",
       "      <td>0.90050</td>\n",
       "    </tr>\n",
       "    <tr>\n",
       "      <th>8</th>\n",
       "      <td>vowel</td>\n",
       "      <td>Adjusted Rand Index</td>\n",
       "      <td>6</td>\n",
       "      <td>euclidean</td>\n",
       "      <td>0.17080</td>\n",
       "    </tr>\n",
       "    <tr>\n",
       "      <th>9</th>\n",
       "      <td>vowel</td>\n",
       "      <td>Davies-Bouldin Index</td>\n",
       "      <td>15</td>\n",
       "      <td>manhattan</td>\n",
       "      <td>1.64680</td>\n",
       "    </tr>\n",
       "    <tr>\n",
       "      <th>10</th>\n",
       "      <td>vowel</td>\n",
       "      <td>Silhouette Score</td>\n",
       "      <td>2</td>\n",
       "      <td>euclidean</td>\n",
       "      <td>0.18090</td>\n",
       "    </tr>\n",
       "    <tr>\n",
       "      <th>11</th>\n",
       "      <td>vowel</td>\n",
       "      <td>Purity Score</td>\n",
       "      <td>14</td>\n",
       "      <td>euclidean</td>\n",
       "      <td>0.35850</td>\n",
       "    </tr>\n",
       "  </tbody>\n",
       "</table>\n",
       "</div>"
      ],
      "text/plain": [
       "     dataset                metric   k   distance  metric_score\n",
       "0   satimage   Adjusted Rand Index   6     cosine       0.57980\n",
       "1   satimage  Davies-Bouldin Index   3  manhattan       0.81180\n",
       "2   satimage      Silhouette Score   3  euclidean       0.43730\n",
       "3   satimage          Purity Score  14     cosine       0.83210\n",
       "4     splice   Adjusted Rand Index   4  euclidean       0.43050\n",
       "5     splice  Davies-Bouldin Index  15  manhattan       6.52080\n",
       "6     splice      Silhouette Score   2  manhattan       0.01727\n",
       "7     splice          Purity Score  10     cosine       0.90050\n",
       "8      vowel   Adjusted Rand Index   6  euclidean       0.17080\n",
       "9      vowel  Davies-Bouldin Index  15  manhattan       1.64680\n",
       "10     vowel      Silhouette Score   2  euclidean       0.18090\n",
       "11     vowel          Purity Score  14  euclidean       0.35850"
      ]
     },
     "execution_count": 110,
     "metadata": {},
     "output_type": "execute_result"
    }
   ],
   "source": [
    "# Work3 best configurations\n",
    "best_configs = pd.read_csv(\"w3_results/kmeans_configs.csv\")\n",
    "best_configs"
   ]
  },
  {
   "cell_type": "code",
   "execution_count": null,
   "metadata": {},
   "outputs": [],
   "source": [
    "dataset_clusters = {}\n",
    "\n",
    "for dataset_name, metric, best_k, best_dist, _ in np.array(best_configs):\n",
    "    X = preprocessed_datasets[dataset_name]['df']\n",
    "\n",
    "    # Global KMeans\n",
    "    if dataset_name == 'satimage':\n",
    "            km = global_kmeans.fast_global_k_means(k=best_k, distance=best_dist)\n",
    "            y_pred = km.fit_predict(X)\n",
    "        \n",
    "    # KMeans\n",
    "    else:\n",
    "        km = kmeans.KMeans(k=best_k, distance=best_dist)\n",
    "        y_pred = km.fit_predict(X)\n",
    "\n",
    "    if dataset_name not in dataset_clusters:\n",
    "        dataset_clusters[dataset_name] = {}\n",
    "\n",
    "    dataset_clusters[dataset_name][metric] = {'data': X, 'labels': y_pred}    "
   ]
  },
  {
   "cell_type": "markdown",
   "metadata": {},
   "source": [
    "Mostrar resultats per cada dataset_cluster results (4 plots, 1 per metrica)"
   ]
  },
  {
   "cell_type": "code",
   "execution_count": null,
   "metadata": {},
   "outputs": [],
   "source": []
  },
  {
   "cell_type": "markdown",
   "metadata": {},
   "source": [
    "optics"
   ]
  },
  {
   "cell_type": "code",
   "execution_count": 9,
   "metadata": {},
   "outputs": [
    {
     "data": {
      "text/html": [
       "<div>\n",
       "<style scoped>\n",
       "    .dataframe tbody tr th:only-of-type {\n",
       "        vertical-align: middle;\n",
       "    }\n",
       "\n",
       "    .dataframe tbody tr th {\n",
       "        vertical-align: top;\n",
       "    }\n",
       "\n",
       "    .dataframe thead th {\n",
       "        text-align: right;\n",
       "    }\n",
       "</style>\n",
       "<table border=\"1\" class=\"dataframe\">\n",
       "  <thead>\n",
       "    <tr style=\"text-align: right;\">\n",
       "      <th></th>\n",
       "      <th>dataset</th>\n",
       "      <th>metric</th>\n",
       "      <th>metric_type</th>\n",
       "      <th>algorithm</th>\n",
       "      <th>min_samples</th>\n",
       "      <th>n_clusters</th>\n",
       "      <th>metric_score</th>\n",
       "    </tr>\n",
       "  </thead>\n",
       "  <tbody>\n",
       "    <tr>\n",
       "      <th>0</th>\n",
       "      <td>satimage</td>\n",
       "      <td>ARI</td>\n",
       "      <td>euclidean</td>\n",
       "      <td>brute*</td>\n",
       "      <td>2</td>\n",
       "      <td>648</td>\n",
       "      <td>0.02208</td>\n",
       "    </tr>\n",
       "    <tr>\n",
       "      <th>1</th>\n",
       "      <td>satimage</td>\n",
       "      <td>DBI</td>\n",
       "      <td>euclidean</td>\n",
       "      <td>brute*</td>\n",
       "      <td>8</td>\n",
       "      <td>4</td>\n",
       "      <td>0.32574</td>\n",
       "    </tr>\n",
       "    <tr>\n",
       "      <th>2</th>\n",
       "      <td>satimage</td>\n",
       "      <td>Silhouette</td>\n",
       "      <td>euclidean</td>\n",
       "      <td>brute*</td>\n",
       "      <td>8</td>\n",
       "      <td>4</td>\n",
       "      <td>0.78082</td>\n",
       "    </tr>\n",
       "    <tr>\n",
       "      <th>3</th>\n",
       "      <td>satimage</td>\n",
       "      <td>Purity</td>\n",
       "      <td>l1</td>\n",
       "      <td>brute*</td>\n",
       "      <td>2</td>\n",
       "      <td>851</td>\n",
       "      <td>0.50645</td>\n",
       "    </tr>\n",
       "    <tr>\n",
       "      <th>4</th>\n",
       "      <td>splice</td>\n",
       "      <td>ARI</td>\n",
       "      <td>l1</td>\n",
       "      <td>brute*</td>\n",
       "      <td>2</td>\n",
       "      <td>280</td>\n",
       "      <td>0.18572</td>\n",
       "    </tr>\n",
       "    <tr>\n",
       "      <th>5</th>\n",
       "      <td>splice</td>\n",
       "      <td>DBI</td>\n",
       "      <td>euclidean</td>\n",
       "      <td>brute*</td>\n",
       "      <td>4</td>\n",
       "      <td>33</td>\n",
       "      <td>0.96019</td>\n",
       "    </tr>\n",
       "    <tr>\n",
       "      <th>6</th>\n",
       "      <td>splice</td>\n",
       "      <td>Silhouette</td>\n",
       "      <td>euclidean</td>\n",
       "      <td>brute*</td>\n",
       "      <td>4</td>\n",
       "      <td>33</td>\n",
       "      <td>0.44728</td>\n",
       "    </tr>\n",
       "    <tr>\n",
       "      <th>7</th>\n",
       "      <td>splice</td>\n",
       "      <td>Purity</td>\n",
       "      <td>l1</td>\n",
       "      <td>brute*</td>\n",
       "      <td>2</td>\n",
       "      <td>280</td>\n",
       "      <td>0.72688</td>\n",
       "    </tr>\n",
       "    <tr>\n",
       "      <th>8</th>\n",
       "      <td>vowel</td>\n",
       "      <td>ARI</td>\n",
       "      <td>euclidean</td>\n",
       "      <td>brute*</td>\n",
       "      <td>4</td>\n",
       "      <td>154</td>\n",
       "      <td>0.08904</td>\n",
       "    </tr>\n",
       "    <tr>\n",
       "      <th>9</th>\n",
       "      <td>vowel</td>\n",
       "      <td>DBI</td>\n",
       "      <td>euclidean</td>\n",
       "      <td>brute*</td>\n",
       "      <td>2</td>\n",
       "      <td>288</td>\n",
       "      <td>0.61628</td>\n",
       "    </tr>\n",
       "    <tr>\n",
       "      <th>10</th>\n",
       "      <td>vowel</td>\n",
       "      <td>Silhouette</td>\n",
       "      <td>chebyshev</td>\n",
       "      <td>brute*</td>\n",
       "      <td>14</td>\n",
       "      <td>2</td>\n",
       "      <td>0.60045</td>\n",
       "    </tr>\n",
       "    <tr>\n",
       "      <th>11</th>\n",
       "      <td>vowel</td>\n",
       "      <td>Purity</td>\n",
       "      <td>l1</td>\n",
       "      <td>brute*</td>\n",
       "      <td>2</td>\n",
       "      <td>281</td>\n",
       "      <td>0.93232</td>\n",
       "    </tr>\n",
       "  </tbody>\n",
       "</table>\n",
       "</div>"
      ],
      "text/plain": [
       "     dataset      metric metric_type algorithm  min_samples  n_clusters  \\\n",
       "0   satimage         ARI   euclidean    brute*            2         648   \n",
       "1   satimage         DBI   euclidean    brute*            8           4   \n",
       "2   satimage  Silhouette   euclidean    brute*            8           4   \n",
       "3   satimage      Purity          l1    brute*            2         851   \n",
       "4     splice         ARI          l1    brute*            2         280   \n",
       "5     splice         DBI   euclidean    brute*            4          33   \n",
       "6     splice  Silhouette   euclidean    brute*            4          33   \n",
       "7     splice      Purity          l1    brute*            2         280   \n",
       "8      vowel         ARI   euclidean    brute*            4         154   \n",
       "9      vowel         DBI   euclidean    brute*            2         288   \n",
       "10     vowel  Silhouette   chebyshev    brute*           14           2   \n",
       "11     vowel      Purity          l1    brute*            2         281   \n",
       "\n",
       "    metric_score  \n",
       "0        0.02208  \n",
       "1        0.32574  \n",
       "2        0.78082  \n",
       "3        0.50645  \n",
       "4        0.18572  \n",
       "5        0.96019  \n",
       "6        0.44728  \n",
       "7        0.72688  \n",
       "8        0.08904  \n",
       "9        0.61628  \n",
       "10       0.60045  \n",
       "11       0.93232  "
      ]
     },
     "execution_count": 9,
     "metadata": {},
     "output_type": "execute_result"
    }
   ],
   "source": [
    "best_configs_optics = pd.read_csv(\"w3_results/optics_configs.csv\")\n",
    "best_configs_optics"
   ]
  },
  {
   "cell_type": "code",
   "execution_count": null,
   "metadata": {},
   "outputs": [],
   "source": [
    "dataset_clusters = {}\n",
    "\n",
    "for dataset_name, metric, metric_type, min_samples, n_clusters, _ in np.array(best_configs):\n",
    "    X = preprocessed_datasets[dataset_name]['df']\n",
    "\n",
    "    # Apply optics\n",
    "    \n",
    "    dataset_clusters[dataset_name][metric] = {'data': X, 'labels': y_pred}    "
   ]
  },
  {
   "cell_type": "markdown",
   "metadata": {},
   "source": [
    "### UMAP"
   ]
  },
  {
   "cell_type": "code",
   "execution_count": null,
   "metadata": {},
   "outputs": [],
   "source": []
  },
  {
   "cell_type": "markdown",
   "metadata": {},
   "source": [
    "# Reduction + clustering\n",
    "\n",
    "1. Reduir dataset\n",
    "2. Aplicar millor configuració en el conjunt de dades amb només 3 axis."
   ]
  },
  {
   "cell_type": "markdown",
   "metadata": {},
   "source": []
  }
 ],
 "metadata": {
  "kernelspec": {
   "display_name": "iml",
   "language": "python",
   "name": "python3"
  },
  "language_info": {
   "codemirror_mode": {
    "name": "ipython",
    "version": 3
   },
   "file_extension": ".py",
   "mimetype": "text/x-python",
   "name": "python",
   "nbconvert_exporter": "python",
   "pygments_lexer": "ipython3",
   "version": "3.9.19"
  }
 },
 "nbformat": 4,
 "nbformat_minor": 2
}
