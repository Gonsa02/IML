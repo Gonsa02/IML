{
 "cells": [
  {
   "cell_type": "markdown",
   "metadata": {},
   "source": [
    "K-means"
   ]
  },
  {
   "cell_type": "code",
   "execution_count": 1,
   "metadata": {},
   "outputs": [],
   "source": [
    "import numpy as np\n",
    "import os\n",
    "from collections import Counter\n",
    "import pandas as pd\n",
    "from scipy.spatial.distance import cdist"
   ]
  },
  {
   "cell_type": "code",
   "execution_count": 4,
   "metadata": {},
   "outputs": [],
   "source": [
    "current_dir = os.getcwd()\n",
    "parent_dir = os.path.abspath(os.path.join(current_dir, '..'))\n",
    "os.chdir(parent_dir) \n",
    "\n",
    "from preprocessing import DataLoader, DataProcessor\n",
    "\n",
    "# Initialize the DataLoader\n",
    "data_loader     = DataLoader()\n",
    "data_processor  = DataProcessor()\n",
    "\n",
    "df_satimage, labels_satimage= data_loader.load_arff_data(\"satimage\")\n",
    "df_splice, labels_splice    = data_loader.load_arff_data(\"splice\")\n",
    "df_vowel, labels_vowel      = data_loader.load_arff_data(\"vowel\")\n",
    "\n",
    "\n",
    "df_satimage = data_processor.preprocess_dataset(df_satimage)\n",
    "df_splice   = data_processor.preprocess_dataset(df_splice)\n",
    "df_vowel    = data_processor.preprocess_dataset(df_vowel)"
   ]
  },
  {
   "cell_type": "code",
   "execution_count": 8,
   "metadata": {},
   "outputs": [
    {
     "ename": "ImportError",
     "evalue": "cannot import name 'kmeans' from 'kmeans' (/Users/julia/Desktop/MAI/IML/lab/IML/Work3/kmeans/kmeans.py)",
     "output_type": "error",
     "traceback": [
      "\u001b[0;31m---------------------------------------------------------------------------\u001b[0m",
      "\u001b[0;31mImportError\u001b[0m                               Traceback (most recent call last)",
      "Cell \u001b[0;32mIn[8], line 1\u001b[0m\n\u001b[0;32m----> 1\u001b[0m \u001b[38;5;28;01mfrom\u001b[39;00m \u001b[38;5;21;01mkmeans\u001b[39;00m \u001b[38;5;28;01mimport\u001b[39;00m kmeans\n",
      "\u001b[0;31mImportError\u001b[0m: cannot import name 'kmeans' from 'kmeans' (/Users/julia/Desktop/MAI/IML/lab/IML/Work3/kmeans/kmeans.py)"
     ]
    }
   ],
   "source": [
    "from kmeans import kmeans"
   ]
  },
  {
   "cell_type": "code",
   "execution_count": null,
   "metadata": {},
   "outputs": [
    {
     "ename": "NameError",
     "evalue": "name 'kmeans' is not defined",
     "output_type": "error",
     "traceback": [
      "\u001b[0;31m---------------------------------------------------------------------------\u001b[0m",
      "\u001b[0;31mNameError\u001b[0m                                 Traceback (most recent call last)",
      "Cell \u001b[0;32mIn[2], line 1\u001b[0m\n\u001b[0;32m----> 1\u001b[0m \u001b[38;5;28;01mclass\u001b[39;00m \u001b[38;5;21;01mfast_global_k_means\u001b[39;00m(\u001b[43mkmeans\u001b[49m\u001b[38;5;241m.\u001b[39mKMeans):\n\u001b[1;32m      2\u001b[0m     \u001b[38;5;28;01mdef\u001b[39;00m \u001b[38;5;21m__init__\u001b[39m(\u001b[38;5;28mself\u001b[39m, k\u001b[38;5;241m=\u001b[39m\u001b[38;5;241m2\u001b[39m, max_iters\u001b[38;5;241m=\u001b[39m\u001b[38;5;241m100\u001b[39m, distance\u001b[38;5;241m=\u001b[39m\u001b[38;5;124m'\u001b[39m\u001b[38;5;124meuclidean\u001b[39m\u001b[38;5;124m'\u001b[39m, seed\u001b[38;5;241m=\u001b[39m\u001b[38;5;241m0\u001b[39m, verbose\u001b[38;5;241m=\u001b[39m\u001b[38;5;28;01mFalse\u001b[39;00m):\n\u001b[1;32m      3\u001b[0m         \u001b[38;5;28mself\u001b[39m\u001b[38;5;241m.\u001b[39mk \u001b[38;5;241m=\u001b[39m k\n",
      "\u001b[0;31mNameError\u001b[0m: name 'kmeans' is not defined"
     ]
    }
   ],
   "source": [
    "class fast_global_k_means(kmeans.KMeans):\n",
    "    def __init__(self, k=2, max_iters=100, distance='euclidean', seed=0, verbose=False):\n",
    "        self.k = k\n",
    "        self.max_iters = max_iters\n",
    "        self.distance = distance\n",
    "        self.seed = seed\n",
    "        self.verbose = verbose\n",
    "    \n",
    "    # X (n, d), centroids (k, d)\n",
    "    def _compute_bounds(self, X, centroids):\n",
    "        distances = np.array([np.linalg.norm(X - c, axis=1) for c in centroids])\n",
    "        min_distances = np.min(distances, axis=0) # distances from x to their nearest cluster\n",
    "        bounds= [np.sum(np.maximum(min_distances - np.linalg.norm(X - xn, axis=1)**2, 0)) for xn in X]  # reduction in error obtained for each sample (as a new cluster)\n",
    "        return np.array(bounds)\n",
    "\n",
    "\n",
    "    def fit_predict(self, X):\n",
    "        np.random.seed(self.seed)\n",
    "        X = np.array(X)\n",
    "        n = X.shape[0]\n",
    "\n",
    "        first_centroid = np.mean(X, axis=0).reshape(1, -1)  # converts 2D (1, d)\n",
    "        self.centroids = first_centroid\n",
    "        \n",
    "        for k_value in range(2, self.k+1):\n",
    "            if self.verbose:\n",
    "                print(\"Adding cluster\", k_value)\n",
    "\n",
    "            bounds = self._compute_bounds(X, self.centroids)\n",
    "            new_centroid_idx = np.argmax(bounds)\n",
    "            new_centroid = X[new_centroid_idx].reshape(1, -1)\n",
    "            \n",
    "            init_centroids = np.vstack([self.centroids, new_centroid])\n",
    "\n",
    "            km = kmeans.KMeans(k=k_value, distance=self.distance, seed=self.seed)\n",
    "            _ = km.fit_predict(X, initial_centroids=init_centroids)\n",
    "\n",
    "            self.centroids = km.get_centroids()\n",
    "            \n",
    "\n",
    "        final_kmeans = kmeans.KMeans(\n",
    "            k=self.k, distance=self.distance, seed=self.seed)\n",
    "        labels = final_kmeans.fit_predict(\n",
    "            X, initial_centroids=self.centroids)\n",
    "\n",
    "        self.iterations = final_kmeans.get_iterations()\n",
    "\n",
    "        return labels\n",
    "    \n",
    "\n",
    "    def get_iterations(self):\n",
    "        return self.iterations"
   ]
  },
  {
   "cell_type": "code",
   "execution_count": 37,
   "metadata": {},
   "outputs": [],
   "source": [
    "fgkm = fast_global_k_means(k=7)\n",
    "labels = fgkm.fit_predict(df_satimage)"
   ]
  },
  {
   "cell_type": "code",
   "execution_count": 40,
   "metadata": {},
   "outputs": [
    {
     "data": {
      "text/plain": [
       "array([5, 5, 5, ..., 4, 4, 4])"
      ]
     },
     "execution_count": 40,
     "metadata": {},
     "output_type": "execute_result"
    }
   ],
   "source": [
    "labels"
   ]
  },
  {
   "cell_type": "code",
   "execution_count": 16,
   "metadata": {},
   "outputs": [
    {
     "ename": "NameError",
     "evalue": "name 'global_kmeans' is not defined",
     "output_type": "error",
     "traceback": [
      "\u001b[0;31m---------------------------------------------------------------------------\u001b[0m",
      "\u001b[0;31mNameError\u001b[0m                                 Traceback (most recent call last)",
      "Cell \u001b[0;32mIn[16], line 1\u001b[0m\n\u001b[0;32m----> 1\u001b[0m fgkm \u001b[38;5;241m=\u001b[39m \u001b[43mglobal_kmeans\u001b[49m\u001b[38;5;241m.\u001b[39mfast_global_k_means(k\u001b[38;5;241m=\u001b[39m\u001b[38;5;241m3\u001b[39m)\n",
      "\u001b[0;31mNameError\u001b[0m: name 'global_kmeans' is not defined"
     ]
    }
   ],
   "source": [
    "fgkm = global_kmeans.fast_global_k_means(k=3)"
   ]
  },
  {
   "cell_type": "code",
   "execution_count": 5,
   "metadata": {},
   "outputs": [
    {
     "ename": "IndexError",
     "evalue": "index 36 is out of bounds for axis 1 with size 36",
     "output_type": "error",
     "traceback": [
      "\u001b[0;31m---------------------------------------------------------------------------\u001b[0m",
      "\u001b[0;31mIndexError\u001b[0m                                Traceback (most recent call last)",
      "Cell \u001b[0;32mIn[5], line 1\u001b[0m\n\u001b[0;32m----> 1\u001b[0m \u001b[43mfgkm\u001b[49m\u001b[38;5;241;43m.\u001b[39;49m\u001b[43mfit_predict\u001b[49m\u001b[43m(\u001b[49m\u001b[43mdf_satimage\u001b[49m\u001b[43m)\u001b[49m\n",
      "File \u001b[0;32m~/Desktop/MAI/IML/lab/IML/Work3/kmeans/global_kmeans.py:37\u001b[0m, in \u001b[0;36mfast_global_k_means.fit_predict\u001b[0;34m(self, X)\u001b[0m\n\u001b[1;32m     35\u001b[0m \u001b[38;5;28;01mfor\u001b[39;00m i \u001b[38;5;129;01min\u001b[39;00m \u001b[38;5;28mrange\u001b[39m(n):\n\u001b[1;32m     36\u001b[0m     \u001b[38;5;28;01mfor\u001b[39;00m j \u001b[38;5;129;01min\u001b[39;00m \u001b[38;5;28mrange\u001b[39m(n_centroids):\n\u001b[0;32m---> 37\u001b[0m         centroid_distances[i, j] \u001b[38;5;241m=\u001b[39m centroid_distances[j, i] \u001b[38;5;241m=\u001b[39m np\u001b[38;5;241m.\u001b[39msum(\n\u001b[1;32m     38\u001b[0m             np\u001b[38;5;241m.\u001b[39msquare(X[i, :] \u001b[38;5;241m-\u001b[39m \u001b[38;5;28mself\u001b[39m\u001b[38;5;241m.\u001b[39mcentroids[j, :]))\n\u001b[1;32m     40\u001b[0m min_distances \u001b[38;5;241m=\u001b[39m np\u001b[38;5;241m.\u001b[39mmin(centroid_distances, axis\u001b[38;5;241m=\u001b[39m\u001b[38;5;241m1\u001b[39m)\n\u001b[1;32m     42\u001b[0m b_n \u001b[38;5;241m=\u001b[39m np\u001b[38;5;241m.\u001b[39mzeros(n)\n",
      "\u001b[0;31mIndexError\u001b[0m: index 36 is out of bounds for axis 1 with size 36"
     ]
    }
   ],
   "source": [
    "fgkm.fit_predict(df_satimage)"
   ]
  },
  {
   "cell_type": "code",
   "execution_count": 4,
   "metadata": {},
   "outputs": [],
   "source": [
    "import pandas as pd"
   ]
  },
  {
   "cell_type": "code",
   "execution_count": 7,
   "metadata": {},
   "outputs": [],
   "source": [
    "results = pd.read_csv(\"results/kmeans_results.csv\")"
   ]
  },
  {
   "cell_type": "code",
   "execution_count": null,
   "metadata": {},
   "outputs": [],
   "source": [
    "filtered_df = results[(results['Dataset'] == 'satimage')]"
   ]
  },
  {
   "cell_type": "code",
   "execution_count": 10,
   "metadata": {},
   "outputs": [],
   "source": [
    "best_values = []\n",
    "\n",
    "if not filtered_df.empty:  # Ensure the filtered DataFrame is not empty\n",
    "    best_ari = filtered_df.loc[filtered_df['ARI'].idxmax()]\n",
    "    best_silhouette = filtered_df.loc[filtered_df['ARI'].idxmax()]\n",
    "    best_DBI = filtered_df.loc[filtered_df['ARI'].idxmax()]\n",
    "    best_values.append(best_ari)\n",
    "    best_values.append(best_silhouette)\n",
    "    best_values.append(best_DBI)\n",
    "    \n",
    "else:\n",
    "    print(\"No rows match the filtering criteria.\")"
   ]
  },
  {
   "cell_type": "code",
   "execution_count": 11,
   "metadata": {},
   "outputs": [
    {
     "data": {
      "text/html": [
       "<div>\n",
       "<style scoped>\n",
       "    .dataframe tbody tr th:only-of-type {\n",
       "        vertical-align: middle;\n",
       "    }\n",
       "\n",
       "    .dataframe tbody tr th {\n",
       "        vertical-align: top;\n",
       "    }\n",
       "\n",
       "    .dataframe thead th {\n",
       "        text-align: right;\n",
       "    }\n",
       "</style>\n",
       "<table border=\"1\" class=\"dataframe\">\n",
       "  <thead>\n",
       "    <tr style=\"text-align: right;\">\n",
       "      <th></th>\n",
       "      <th>Dataset</th>\n",
       "      <th>k</th>\n",
       "      <th>Distance</th>\n",
       "      <th>Seed</th>\n",
       "      <th>ARI</th>\n",
       "      <th>Silhouette</th>\n",
       "      <th>DBI</th>\n",
       "      <th>Accuracy</th>\n",
       "      <th>Iterations</th>\n",
       "    </tr>\n",
       "  </thead>\n",
       "  <tbody>\n",
       "    <tr>\n",
       "      <th>151</th>\n",
       "      <td>satimage</td>\n",
       "      <td>7</td>\n",
       "      <td>cosine</td>\n",
       "      <td>12</td>\n",
       "      <td>0.614318</td>\n",
       "      <td>0.28635</td>\n",
       "      <td>1.184951</td>\n",
       "      <td>0.826729</td>\n",
       "      <td>19</td>\n",
       "    </tr>\n",
       "    <tr>\n",
       "      <th>151</th>\n",
       "      <td>satimage</td>\n",
       "      <td>7</td>\n",
       "      <td>cosine</td>\n",
       "      <td>12</td>\n",
       "      <td>0.614318</td>\n",
       "      <td>0.28635</td>\n",
       "      <td>1.184951</td>\n",
       "      <td>0.826729</td>\n",
       "      <td>19</td>\n",
       "    </tr>\n",
       "    <tr>\n",
       "      <th>151</th>\n",
       "      <td>satimage</td>\n",
       "      <td>7</td>\n",
       "      <td>cosine</td>\n",
       "      <td>12</td>\n",
       "      <td>0.614318</td>\n",
       "      <td>0.28635</td>\n",
       "      <td>1.184951</td>\n",
       "      <td>0.826729</td>\n",
       "      <td>19</td>\n",
       "    </tr>\n",
       "  </tbody>\n",
       "</table>\n",
       "</div>"
      ],
      "text/plain": [
       "      Dataset  k Distance  Seed       ARI  Silhouette       DBI  Accuracy  \\\n",
       "151  satimage  7   cosine    12  0.614318     0.28635  1.184951  0.826729   \n",
       "151  satimage  7   cosine    12  0.614318     0.28635  1.184951  0.826729   \n",
       "151  satimage  7   cosine    12  0.614318     0.28635  1.184951  0.826729   \n",
       "\n",
       "     Iterations  \n",
       "151          19  \n",
       "151          19  \n",
       "151          19  "
      ]
     },
     "execution_count": 11,
     "metadata": {},
     "output_type": "execute_result"
    }
   ],
   "source": [
    "pd.DataFrame(best_values)"
   ]
  },
  {
   "cell_type": "code",
   "execution_count": 5,
   "metadata": {},
   "outputs": [
    {
     "data": {
      "text/plain": [
       "array(['hid', 'hId', 'hEd', 'hAd', 'hYd', 'had', 'hOd', 'hod', 'hUd',\n",
       "       'hud', 'hed'], dtype=object)"
      ]
     },
     "execution_count": 5,
     "metadata": {},
     "output_type": "execute_result"
    }
   ],
   "source": [
    "# labels_satimage.unique()\n",
    "# labels_splice.unique()\n",
    "labels_vowel.unique()"
   ]
  },
  {
   "cell_type": "code",
   "execution_count": 6,
   "metadata": {},
   "outputs": [],
   "source": [
    "from sklearn.cluster import KMeans as SKLearnKMeans"
   ]
  },
  {
   "cell_type": "code",
   "execution_count": 7,
   "metadata": {},
   "outputs": [
    {
     "ename": "ValueError",
     "evalue": "Mix of label input types (string and number)",
     "output_type": "error",
     "traceback": [
      "\u001b[0;31m---------------------------------------------------------------------------\u001b[0m",
      "\u001b[0;31mValueError\u001b[0m                                Traceback (most recent call last)",
      "Cell \u001b[0;32mIn[7], line 4\u001b[0m\n\u001b[1;32m      2\u001b[0m sklearn_labels \u001b[38;5;241m=\u001b[39m sklearn_kmeans\u001b[38;5;241m.\u001b[39mfit_predict(df_vowel)\n\u001b[1;32m      3\u001b[0m \u001b[38;5;66;03m# sklearn_accuracy = accuracy_score(labels_vowel, sklearn_labels)\u001b[39;00m\n\u001b[0;32m----> 4\u001b[0m sklearn_accuracy \u001b[38;5;241m=\u001b[39m \u001b[43mKMeans\u001b[49m\u001b[38;5;241;43m.\u001b[39;49m\u001b[43mcompute_accuracy\u001b[49m\u001b[43m(\u001b[49m\u001b[43msklearn_labels\u001b[49m\u001b[43m,\u001b[49m\u001b[43m \u001b[49m\u001b[43mlabels_vowel\u001b[49m\u001b[43m)\u001b[49m\n\u001b[1;32m      5\u001b[0m sklearn_accuracy\n",
      "File \u001b[0;32m~/Desktop/MAI/IML/lab/IML/Work3/kmeans/kmeans.py:128\u001b[0m, in \u001b[0;36mKMeans.compute_accuracy\u001b[0;34m(predicted_labels, true_labels)\u001b[0m\n\u001b[1;32m    125\u001b[0m \u001b[38;5;129m@staticmethod\u001b[39m\n\u001b[1;32m    126\u001b[0m \u001b[38;5;28;01mdef\u001b[39;00m \u001b[38;5;21mcompute_accuracy\u001b[39m(predicted_labels, true_labels):\n\u001b[1;32m    127\u001b[0m     \u001b[38;5;66;03m# Step 1: Create Confusion Matrix\u001b[39;00m\n\u001b[0;32m--> 128\u001b[0m     cm \u001b[38;5;241m=\u001b[39m \u001b[43mconfusion_matrix\u001b[49m\u001b[43m(\u001b[49m\u001b[43mtrue_labels\u001b[49m\u001b[43m,\u001b[49m\u001b[43m \u001b[49m\u001b[43mpredicted_labels\u001b[49m\u001b[43m)\u001b[49m\n\u001b[1;32m    130\u001b[0m     \u001b[38;5;66;03m# Step 2: Apply Hungarian Algorithm\u001b[39;00m\n\u001b[1;32m    131\u001b[0m     \u001b[38;5;66;03m# The algorithm finds the minimum cost assignment, so we use -cm to maximize the diagonal sum\u001b[39;00m\n\u001b[1;32m    132\u001b[0m     cost_matrix \u001b[38;5;241m=\u001b[39m \u001b[38;5;241m-\u001b[39mcm\n",
      "File \u001b[0;32m~/anaconda3/envs/iml/lib/python3.9/site-packages/sklearn/utils/_param_validation.py:213\u001b[0m, in \u001b[0;36mvalidate_params.<locals>.decorator.<locals>.wrapper\u001b[0;34m(*args, **kwargs)\u001b[0m\n\u001b[1;32m    207\u001b[0m \u001b[38;5;28;01mtry\u001b[39;00m:\n\u001b[1;32m    208\u001b[0m     \u001b[38;5;28;01mwith\u001b[39;00m config_context(\n\u001b[1;32m    209\u001b[0m         skip_parameter_validation\u001b[38;5;241m=\u001b[39m(\n\u001b[1;32m    210\u001b[0m             prefer_skip_nested_validation \u001b[38;5;129;01mor\u001b[39;00m global_skip_validation\n\u001b[1;32m    211\u001b[0m         )\n\u001b[1;32m    212\u001b[0m     ):\n\u001b[0;32m--> 213\u001b[0m         \u001b[38;5;28;01mreturn\u001b[39;00m \u001b[43mfunc\u001b[49m\u001b[43m(\u001b[49m\u001b[38;5;241;43m*\u001b[39;49m\u001b[43margs\u001b[49m\u001b[43m,\u001b[49m\u001b[43m \u001b[49m\u001b[38;5;241;43m*\u001b[39;49m\u001b[38;5;241;43m*\u001b[39;49m\u001b[43mkwargs\u001b[49m\u001b[43m)\u001b[49m\n\u001b[1;32m    214\u001b[0m \u001b[38;5;28;01mexcept\u001b[39;00m InvalidParameterError \u001b[38;5;28;01mas\u001b[39;00m e:\n\u001b[1;32m    215\u001b[0m     \u001b[38;5;66;03m# When the function is just a wrapper around an estimator, we allow\u001b[39;00m\n\u001b[1;32m    216\u001b[0m     \u001b[38;5;66;03m# the function to delegate validation to the estimator, but we replace\u001b[39;00m\n\u001b[1;32m    217\u001b[0m     \u001b[38;5;66;03m# the name of the estimator by the name of the function in the error\u001b[39;00m\n\u001b[1;32m    218\u001b[0m     \u001b[38;5;66;03m# message to avoid confusion.\u001b[39;00m\n\u001b[1;32m    219\u001b[0m     msg \u001b[38;5;241m=\u001b[39m re\u001b[38;5;241m.\u001b[39msub(\n\u001b[1;32m    220\u001b[0m         \u001b[38;5;124mr\u001b[39m\u001b[38;5;124m\"\u001b[39m\u001b[38;5;124mparameter of \u001b[39m\u001b[38;5;124m\\\u001b[39m\u001b[38;5;124mw+ must be\u001b[39m\u001b[38;5;124m\"\u001b[39m,\n\u001b[1;32m    221\u001b[0m         \u001b[38;5;124mf\u001b[39m\u001b[38;5;124m\"\u001b[39m\u001b[38;5;124mparameter of \u001b[39m\u001b[38;5;132;01m{\u001b[39;00mfunc\u001b[38;5;241m.\u001b[39m\u001b[38;5;18m__qualname__\u001b[39m\u001b[38;5;132;01m}\u001b[39;00m\u001b[38;5;124m must be\u001b[39m\u001b[38;5;124m\"\u001b[39m,\n\u001b[1;32m    222\u001b[0m         \u001b[38;5;28mstr\u001b[39m(e),\n\u001b[1;32m    223\u001b[0m     )\n",
      "File \u001b[0;32m~/anaconda3/envs/iml/lib/python3.9/site-packages/sklearn/metrics/_classification.py:347\u001b[0m, in \u001b[0;36mconfusion_matrix\u001b[0;34m(y_true, y_pred, labels, sample_weight, normalize)\u001b[0m\n\u001b[1;32m    344\u001b[0m     \u001b[38;5;28;01mraise\u001b[39;00m \u001b[38;5;167;01mValueError\u001b[39;00m(\u001b[38;5;124m\"\u001b[39m\u001b[38;5;132;01m%s\u001b[39;00m\u001b[38;5;124m is not supported\u001b[39m\u001b[38;5;124m\"\u001b[39m \u001b[38;5;241m%\u001b[39m y_type)\n\u001b[1;32m    346\u001b[0m \u001b[38;5;28;01mif\u001b[39;00m labels \u001b[38;5;129;01mis\u001b[39;00m \u001b[38;5;28;01mNone\u001b[39;00m:\n\u001b[0;32m--> 347\u001b[0m     labels \u001b[38;5;241m=\u001b[39m \u001b[43munique_labels\u001b[49m\u001b[43m(\u001b[49m\u001b[43my_true\u001b[49m\u001b[43m,\u001b[49m\u001b[43m \u001b[49m\u001b[43my_pred\u001b[49m\u001b[43m)\u001b[49m\n\u001b[1;32m    348\u001b[0m \u001b[38;5;28;01melse\u001b[39;00m:\n\u001b[1;32m    349\u001b[0m     labels \u001b[38;5;241m=\u001b[39m np\u001b[38;5;241m.\u001b[39masarray(labels)\n",
      "File \u001b[0;32m~/anaconda3/envs/iml/lib/python3.9/site-packages/sklearn/utils/multiclass.py:114\u001b[0m, in \u001b[0;36munique_labels\u001b[0;34m(*ys)\u001b[0m\n\u001b[1;32m    112\u001b[0m \u001b[38;5;66;03m# Check that we don't mix string type with number type\u001b[39;00m\n\u001b[1;32m    113\u001b[0m \u001b[38;5;28;01mif\u001b[39;00m \u001b[38;5;28mlen\u001b[39m(\u001b[38;5;28mset\u001b[39m(\u001b[38;5;28misinstance\u001b[39m(label, \u001b[38;5;28mstr\u001b[39m) \u001b[38;5;28;01mfor\u001b[39;00m label \u001b[38;5;129;01min\u001b[39;00m ys_labels)) \u001b[38;5;241m>\u001b[39m \u001b[38;5;241m1\u001b[39m:\n\u001b[0;32m--> 114\u001b[0m     \u001b[38;5;28;01mraise\u001b[39;00m \u001b[38;5;167;01mValueError\u001b[39;00m(\u001b[38;5;124m\"\u001b[39m\u001b[38;5;124mMix of label input types (string and number)\u001b[39m\u001b[38;5;124m\"\u001b[39m)\n\u001b[1;32m    116\u001b[0m \u001b[38;5;28;01mreturn\u001b[39;00m xp\u001b[38;5;241m.\u001b[39masarray(\u001b[38;5;28msorted\u001b[39m(ys_labels))\n",
      "\u001b[0;31mValueError\u001b[0m: Mix of label input types (string and number)"
     ]
    }
   ],
   "source": [
    "sklearn_kmeans = SKLearnKMeans(n_clusters=11, n_init=10, max_iter=300, random_state=42)\n",
    "sklearn_labels = sklearn_kmeans.fit_predict(df_vowel)\n",
    "# sklearn_accuracy = accuracy_score(labels_vowel, sklearn_labels)\n",
    "sklearn_accuracy = KMeans.compute_accuracy(sklearn_labels, labels_vowel)\n",
    "sklearn_accuracy"
   ]
  },
  {
   "cell_type": "code",
   "execution_count": null,
   "metadata": {},
   "outputs": [],
   "source": [
    "sklearn"
   ]
  },
  {
   "cell_type": "code",
   "execution_count": 36,
   "metadata": {},
   "outputs": [],
   "source": [
    "def compute_pairwise_distances(data):\n",
    "    # Step 1: Compute the squared norms of each data point (||x_i||^2)\n",
    "    squared_norms = np.sum(data ** 2, axis=1)  # Shape: (n_samples,)\n",
    "\n",
    "    # Step 2: Compute the pairwise squared distances\n",
    "    pairwise_distances = (\n",
    "        squared_norms[:, np.newaxis]  # Shape: (n_samples, 1)\n",
    "        + squared_norms[np.newaxis, :]  # Shape: (1, n_samples)\n",
    "        - 2 * np.dot(data, data.T)  # Dot product gives (x_i . x_j)\n",
    "    )\n",
    "    \n",
    "    # Ensure no negative distances due to floating-point precision\n",
    "    np.fill_diagonal(pairwise_distances, 0)  # Diagonal should be exactly zero\n",
    "    pairwise_distances = np.maximum(pairwise_distances, 0)  # Ensure non-negativity\n",
    "\n",
    "    return pairwise_distances"
   ]
  },
  {
   "cell_type": "code",
   "execution_count": 23,
   "metadata": {},
   "outputs": [
    {
     "data": {
      "text/html": [
       "<div>\n",
       "<style scoped>\n",
       "    .dataframe tbody tr th:only-of-type {\n",
       "        vertical-align: middle;\n",
       "    }\n",
       "\n",
       "    .dataframe tbody tr th {\n",
       "        vertical-align: top;\n",
       "    }\n",
       "\n",
       "    .dataframe thead th {\n",
       "        text-align: right;\n",
       "    }\n",
       "</style>\n",
       "<table border=\"1\" class=\"dataframe\">\n",
       "  <thead>\n",
       "    <tr style=\"text-align: right;\">\n",
       "      <th></th>\n",
       "      <th>0</th>\n",
       "      <th>1</th>\n",
       "    </tr>\n",
       "  </thead>\n",
       "  <tbody>\n",
       "    <tr>\n",
       "      <th>0</th>\n",
       "      <td>0.00000</td>\n",
       "      <td>3.14447</td>\n",
       "    </tr>\n",
       "    <tr>\n",
       "      <th>1</th>\n",
       "      <td>3.14447</td>\n",
       "      <td>0.00000</td>\n",
       "    </tr>\n",
       "  </tbody>\n",
       "</table>\n",
       "</div>"
      ],
      "text/plain": [
       "         0        1\n",
       "0  0.00000  3.14447\n",
       "1  3.14447  0.00000"
      ]
     },
     "execution_count": 23,
     "metadata": {},
     "output_type": "execute_result"
    }
   ],
   "source": [
    "data = np.array(df_satimage.copy())\n",
    "data = data[0:2]\n",
    "pd.DataFrame(np.linalg.norm(data[:, np.newaxis] - data[np.newaxis, :], axis=2) ** 2)"
   ]
  },
  {
   "cell_type": "code",
   "execution_count": 13,
   "metadata": {},
   "outputs": [],
   "source": [
    "class Distances:\n",
    "    @staticmethod\n",
    "    def _minkowski_distance(X, centroid, r=1):\n",
    "        return np.sum(np.abs(X-centroid)**r, axis=1)**(1/r)\n",
    "    \n",
    "    @staticmethod\n",
    "    def manhattan(X, centroid):\n",
    "        return Distances._minkowski_distance(X, centroid, r=1)\n",
    "\n",
    "    @staticmethod\n",
    "    def euclidean(X, centroid):\n",
    "        return Distances._minkowski_distance(X, centroid, r=2)\n",
    "    \n",
    "    @staticmethod\n",
    "    def cosine_distance(X, centroid):\n",
    "        similarity = np.dot(X, centroid) / (np.linalg.norm(X, axis=1) * np.linalg.norm(centroid))\n",
    "        return 1-similarity"
   ]
  },
  {
   "cell_type": "code",
   "execution_count": 14,
   "metadata": {},
   "outputs": [],
   "source": [
    "class KMeans:\n",
    "\n",
    "    def __init__(self, k=2, max_iters=100, distance='euclidean', seed=0, verbose=False):\n",
    "        self.k = k\n",
    "        self.max_iters = max_iters\n",
    "        self.distance = KMeans._get_distance(distance)\n",
    "        self.seed = seed\n",
    "        self.verbose = verbose\n",
    "\n",
    "        self.centroids = None\n",
    "        \n",
    "\n",
    "    @staticmethod\n",
    "    def _get_distance(distance):\n",
    "        if distance == 'manhattan':\n",
    "            return Distances.manhattan\n",
    "        elif distance == 'euclidean':\n",
    "            return Distances.euclidean\n",
    "        elif distance == 'cosine':\n",
    "            return Distances.cosine_distance\n",
    "        else:\n",
    "            raise ValueError(\"Unsupported distance metric. Choose 'euclidean', 'manhattan', or 'cosine'.\")\n",
    "        \n",
    "    \n",
    "    def _assign_samples(self, X):\n",
    "        distances = np.array([self.distance(X, centroid) for centroid in self.centroids])\n",
    "        return np.argmin(distances, axis=0)\n",
    "    \n",
    "    # change tolerance\n",
    "    def _check_convergence(self, new_centroids):\n",
    "        return np.allclose(self.centroids, new_centroids, atol=1e-6)\n",
    "\n",
    "    def _update_centroids(self, X, labels):\n",
    "        new_centroids = np.zeros_like(self.centroids)\n",
    "        for i in range(self.k):\n",
    "            cluster_samples = X[labels == i]\n",
    "            if len(cluster_samples) > 0:\n",
    "                new_centroids[i] = cluster_samples.mean(axis=0)\n",
    "            else:\n",
    "                # In case a cluster does not have any sample, reassign\n",
    "                new_centroids[i] = X[np.random.randint(0, X.shape[0])]\n",
    "        return new_centroids\n",
    "\n",
    "    \n",
    "    def fit_predict(self, X):\n",
    "        np.random.seed(self.seed)\n",
    "\n",
    "        X = np.array(X)\n",
    "\n",
    "        # Centroid initialization\n",
    "        centroids_idx = np.random.choice(X.shape[0], self.k, replace=False)\n",
    "        self.centroids = X[centroids_idx]\n",
    "\n",
    "        for i in range(self.max_iters):\n",
    "            if self.verbose:\n",
    "                print(f\"Iteration: {i}/{self.max_iters}\")\n",
    "            \n",
    "            labels = self._assign_samples(X)\n",
    "\n",
    "            # Update centroids based on current assignments\n",
    "            new_centroids = self._update_centroids(X, labels)\n",
    "            if self._check_convergence(new_centroids):\n",
    "                if (self.verbose):\n",
    "                    print(f\"Converged at iteration {i+1}\")\n",
    "                break\n",
    "\n",
    "            self.centroids = new_centroids\n",
    "            if (i == self.max_iters-1):\n",
    "                print(f\"No convergence\")\n",
    "\n",
    "        return labels\n",
    "    \n",
    "    def predict(self, X):\n",
    "        if self.centroids is None:\n",
    "            raise Exception(\"Model has not been fitted yet.\")\n",
    "        \n",
    "        X = np.array(X)\n",
    "        return self._assign_samples(X)\n",
    "    \n",
    "    def get_centroids(self):\n",
    "        if self.centroids is None:\n",
    "            raise Exception(\"Model has not been fitted yet.\")\n",
    "    \n",
    "        return self.centroids\n",
    "    \n",
    "    @staticmethod\n",
    "    def compute_accuracy(predicted_labels, true_labels):\n",
    "        predicted_labels = np.array(predicted_labels)\n",
    "        true_labels = np.array(true_labels)\n",
    "\n",
    "        label_mapping = {}\n",
    "        clusters = np.unique(predicted_labels)\n",
    "\n",
    "        for c in clusters:\n",
    "            samples_idxs = np.where(predicted_labels == c)\n",
    "\n",
    "            true_labels_cluster = true_labels[samples_idxs]\n",
    "            if len(true_labels_cluster) > 0:\n",
    "                label_mapping[c] = Counter(true_labels_cluster).most_common(1)[0][0]\n",
    "            else:\n",
    "                label_mapping[c] = -1\n",
    "        \n",
    "        matched_predicted_labels = np.array([label_mapping[c] for c in predicted_labels])\n",
    "\n",
    "        accuracy = np.mean(matched_predicted_labels == true_labels)\n",
    "        return accuracy  \n",
    "        "
   ]
  },
  {
   "cell_type": "code",
   "execution_count": null,
   "metadata": {},
   "outputs": [],
   "source": [
    "class fast_global_k_means:\n",
    "    def __init__(self, k=2, max_iters=100, distance='euclidean', seed=0, verbose=False):\n",
    "        self.k = k\n",
    "        self.max_iters = max_iters\n",
    "        self.distance = distance\n",
    "        self.seed = seed\n",
    "\n",
    "        self.centroids = np.array()\n",
    "\n",
    "    def fit_predict(self, X):\n",
    "        n = X.shape[0]\n",
    "\n",
    "        first_centroid = np.mean(X, axis=0)\n",
    "        self.centroids.append(first_centroid)\n",
    "\n",
    "        distances = np.linalg.norm(X[:, np.newaxis] - X[np.newaxis, :], axis=2) ** 2\n",
    "\n",
    "        for k_value in range(1, self.k):\n",
    "            centroid_distances = np.linalg.norm(data[:, np.newaxis] - self.centroids[np.newaxis, :], axis=2) ** 2\n",
    "\n",
    "            # Minimum distance between each sample and centroids\n",
    "            min_distances = np.min(centroid_distances, axis=1)\n",
    "\n",
    "            b_n = np.zeros(n)\n",
    "            for i in range(n):\n",
    "                b_n[i] = np.sum(np.maximum(min_distances - distances[i], 0))\n",
    "            \n",
    "            new_centroid_idx = np.argmax(b_n)\n",
    "            new_centroid = X[new_centroid_idx]\n",
    "\n",
    "            kmeans = KMeans(k=k_value, distance=self.distance, seed=self.seed)\n",
    "            _ = kmeans.fit_predict(X)\n",
    "\n",
    "            self.centroids = kmeans.get_centroids()\n",
    "        \n",
    "        final_kmeans = KMeans(k=self.k, distance=self.distance, seed=self.seed)\n",
    "        labels = final_kmeans.fit_predict(X, initial_centroids=self.centroids)\n",
    "        \n",
    "        return labels"
   ]
  },
  {
   "cell_type": "code",
   "execution_count": 42,
   "metadata": {},
   "outputs": [
    {
     "data": {
      "text/plain": [
       "array(['EI', 'IE', 'N'], dtype=object)"
      ]
     },
     "execution_count": 42,
     "metadata": {},
     "output_type": "execute_result"
    }
   ],
   "source": [
    "# l = labels_satimage\n",
    "l = labels_splice\n",
    "l.unique()"
   ]
  },
  {
   "cell_type": "code",
   "execution_count": 43,
   "metadata": {},
   "outputs": [
    {
     "name": "stdout",
     "output_type": "stream",
     "text": [
      "Iteration: 0/100\n",
      "Iteration: 1/100\n",
      "Iteration: 2/100\n",
      "Iteration: 3/100\n",
      "Iteration: 4/100\n",
      "Iteration: 5/100\n",
      "Iteration: 6/100\n",
      "Iteration: 7/100\n",
      "Iteration: 8/100\n",
      "Iteration: 9/100\n",
      "Iteration: 10/100\n",
      "Iteration: 11/100\n",
      "Iteration: 12/100\n",
      "Iteration: 13/100\n",
      "Iteration: 14/100\n",
      "Iteration: 15/100\n",
      "Iteration: 16/100\n",
      "Iteration: 17/100\n",
      "Iteration: 18/100\n",
      "Iteration: 19/100\n",
      "Iteration: 20/100\n",
      "Iteration: 21/100\n",
      "Iteration: 22/100\n",
      "Iteration: 23/100\n",
      "Iteration: 24/100\n",
      "Iteration: 25/100\n",
      "Iteration: 26/100\n",
      "Iteration: 27/100\n",
      "Iteration: 28/100\n",
      "Iteration: 29/100\n",
      "Iteration: 30/100\n",
      "Iteration: 31/100\n",
      "Iteration: 32/100\n",
      "Iteration: 33/100\n",
      "Iteration: 34/100\n",
      "Iteration: 35/100\n",
      "Iteration: 36/100\n",
      "Iteration: 37/100\n",
      "Iteration: 38/100\n",
      "Converged at iteration 39\n"
     ]
    }
   ],
   "source": [
    "kmeans = KMeans(k=3, verbose=True)\n",
    "# labels = kmeans.fit_predict(df_satimage)\n",
    "labels = kmeans.fit_predict(df_splice)"
   ]
  },
  {
   "cell_type": "code",
   "execution_count": 44,
   "metadata": {},
   "outputs": [
    {
     "data": {
      "text/plain": [
       "np.float64(0.7508316699933466)"
      ]
     },
     "execution_count": 44,
     "metadata": {},
     "output_type": "execute_result"
    }
   ],
   "source": [
    "KMeans.compute_accuracy(labels_splice, labels)"
   ]
  },
  {
   "cell_type": "code",
   "execution_count": null,
   "metadata": {},
   "outputs": [],
   "source": [
    "labels"
   ]
  },
  {
   "cell_type": "code",
   "execution_count": 10,
   "metadata": {},
   "outputs": [],
   "source": [
    "import matplotlib.pyplot as plt"
   ]
  },
  {
   "cell_type": "code",
   "execution_count": 11,
   "metadata": {},
   "outputs": [
    {
     "name": "stdout",
     "output_type": "stream",
     "text": [
      "Iteration: 0/100\n",
      "Iteration: 1/100\n",
      "Iteration: 2/100\n",
      "Iteration: 3/100\n",
      "Iteration: 4/100\n",
      "Converged at iteration 5\n"
     ]
    },
    {
     "data": {
      "image/png": "[encoded data removed]",
      "text/plain": [
       "<Figure size 640x480 with 1 Axes>"
      ]
     },
     "metadata": {},
     "output_type": "display_data"
    },
    {
     "data": {
      "image/png": "[encoded data removed]",
      "text/plain": [
       "<Figure size 640x480 with 1 Axes>"
      ]
     },
     "metadata": {},
     "output_type": "display_data"
    }
   ],
   "source": [
    "from sklearn.cluster import KMeans as SKKMeans\n",
    "from sklearn.datasets import make_blobs\n",
    "\n",
    "# Generate synthetic data with 5 clusters\n",
    "X_large, y_true = make_blobs(n_samples=300, centers=5, cluster_std=0.60, random_state=0)\n",
    "\n",
    "# Initialize and fit your KMeans\n",
    "kmeans_large = KMeans(k=5, max_iters=100, distance='euclidean', seed=0, verbose=True)\n",
    "labels_large = kmeans_large.fit_predict(X_large)\n",
    "centroids_large = kmeans_large.get_centroids()\n",
    "\n",
    "# Compare with scikit-learn\n",
    "sk_kmeans_large = SKKMeans(n_clusters=5, max_iter=100, random_state=42)\n",
    "sk_labels_large = sk_kmeans_large.fit_predict(X_large)\n",
    "sk_centroids_large = sk_kmeans_large.cluster_centers_\n",
    "\n",
    "# Visualize your KMeans clustering\n",
    "plt.scatter(X_large[:, 0], X_large[:, 1], c=labels_large, cmap='viridis', marker='o', s=30)\n",
    "plt.scatter(centroids_large[:, 0], centroids_large[:, 1], c='red', marker='x', s=100)\n",
    "plt.title('Your KMeans Clustering on Larger Dataset')\n",
    "plt.xlabel('Feature 1')\n",
    "plt.ylabel('Feature 2')\n",
    "plt.show()\n",
    "\n",
    "# Visualize scikit-learn's KMeans clustering\n",
    "plt.scatter(X_large[:, 0], X_large[:, 1], c=sk_labels_large, cmap='viridis', marker='o', s=30)\n",
    "plt.scatter(sk_centroids_large[:, 0], sk_centroids_large[:, 1], c='red', marker='x', s=100)\n",
    "plt.title('scikit-learn KMeans Clustering on Larger Dataset')\n",
    "plt.xlabel('Feature 1')\n",
    "plt.ylabel('Feature 2')\n",
    "plt.show()\n"
   ]
  },
  {
   "cell_type": "code",
   "execution_count": null,
   "metadata": {},
   "outputs": [],
   "source": []
  }
 ],
 "metadata": {
  "kernelspec": {
   "display_name": "iml",
   "language": "python",
   "name": "python3"
  },
  "language_info": {
   "codemirror_mode": {
    "name": "ipython",
    "version": 3
   },
   "file_extension": ".py",
   "mimetype": "text/x-python",
   "name": "python",
   "nbconvert_exporter": "python",
   "pygments_lexer": "ipython3",
   "version": "3.9.19"
  }
 },
 "nbformat": 4,
 "nbformat_minor": 2
}
